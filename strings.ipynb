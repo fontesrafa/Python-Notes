{
  "nbformat": 4,
  "nbformat_minor": 0,
  "metadata": {
    "colab": {
      "name": "strings.ipynb",
      "provenance": [],
      "authorship_tag": "ABX9TyMjU7Htx1OTBnpneWRKMrFI",
      "include_colab_link": true
    },
    "kernelspec": {
      "name": "python3",
      "display_name": "Python 3"
    }
  },
  "cells": [
    {
      "cell_type": "markdown",
      "metadata": {
        "id": "view-in-github",
        "colab_type": "text"
      },
      "source": [
        "<a href=\"https://colab.research.google.com/github/rafaelfontes777/Python-Notes/blob/master/strings.ipynb\" target=\"_parent\"><img src=\"https://colab.research.google.com/assets/colab-badge.svg\" alt=\"Open In Colab\"/></a>"
      ]
    },
    {
      "cell_type": "markdown",
      "metadata": {
        "id": "aeZjDuH5Tfm1",
        "colab_type": "text"
      },
      "source": [
        "# **Printing Strings**\n"
      ]
    },
    {
      "cell_type": "markdown",
      "metadata": {
        "id": "jU5qMqU5erqd",
        "colab_type": "text"
      },
      "source": [
        "*Show the mensage \"Hello World!\" 10 times on the screen.*"
      ]
    },
    {
      "cell_type": "code",
      "metadata": {
        "id": "c_QAE-Y63A9f",
        "colab_type": "code",
        "colab": {}
      },
      "source": [
        "print('Hello World! ' * 100)"
      ],
      "execution_count": 0,
      "outputs": []
    },
    {
      "cell_type": "markdown",
      "metadata": {
        "id": "3Q7yM4SrfTpN",
        "colab_type": "text"
      },
      "source": [
        "Show each letter in the world \"Hello\" using ***for*** loop"
      ]
    },
    {
      "cell_type": "code",
      "metadata": {
        "id": "V3C83zrS37Fu",
        "colab_type": "code",
        "colab": {}
      },
      "source": [
        "for x in ('Hello'):\n",
        "  print(x)"
      ],
      "execution_count": 0,
      "outputs": []
    },
    {
      "cell_type": "markdown",
      "metadata": {
        "id": "xJ6KDaPZUc4C",
        "colab_type": "text"
      },
      "source": [
        "Injecting a variable into a your string printing"
      ]
    },
    {
      "cell_type": "code",
      "metadata": {
        "id": "f0BGB7J8eeht",
        "colab_type": "code",
        "outputId": "dd8251b8-ff67-4b24-b604-4400b4d7a3ab",
        "colab": {
          "base_uri": "https://localhost:8080/",
          "height": 34
        }
      },
      "source": [
        "my_name = \"Rafael\"\n",
        "print(\"Meu nome eh \" + my_name)"
      ],
      "execution_count": 0,
      "outputs": [
        {
          "output_type": "stream",
          "text": [
            "Meu nome eh Rafael\n"
          ],
          "name": "stdout"
        }
      ]
    },
    {
      "cell_type": "markdown",
      "metadata": {
        "id": "8YfdvVgrWB7l",
        "colab_type": "text"
      },
      "source": [
        "Formating with .format() method"
      ]
    },
    {
      "cell_type": "code",
      "metadata": {
        "id": "2TFkaPaFV8vQ",
        "colab_type": "code",
        "outputId": "7cfb11bd-e84c-41bf-fc38-dcf74191e1ca",
        "colab": {
          "base_uri": "https://localhost:8080/",
          "height": 34
        }
      },
      "source": [
        "print('Meu nome eh {}{}'.format('Rafael ','Fontes'))"
      ],
      "execution_count": 0,
      "outputs": [
        {
          "output_type": "stream",
          "text": [
            "Meu nome eh Rafael Fontes\n"
          ],
          "name": "stdout"
        }
      ]
    },
    {
      "cell_type": "code",
      "metadata": {
        "id": "FJc0c0QCZEED",
        "colab_type": "code",
        "outputId": "72a28ff1-da1f-4649-a574-5f36e35bf087",
        "colab": {
          "base_uri": "https://localhost:8080/",
          "height": 34
        }
      },
      "source": [
        "print('Meu nome eh {2} {0} {1} {3}'.format('Rafael','Nascimento','Francisco','Fontes'))"
      ],
      "execution_count": 0,
      "outputs": [
        {
          "output_type": "stream",
          "text": [
            "Meu nome eh Francisco Rafael Nascimento Fontes\n"
          ],
          "name": "stdout"
        }
      ]
    },
    {
      "cell_type": "code",
      "metadata": {
        "id": "9REWjMMZaY5v",
        "colab_type": "code",
        "outputId": "7a15f7bb-3142-4238-89f5-95a9a867de79",
        "colab": {
          "base_uri": "https://localhost:8080/",
          "height": 34
        }
      },
      "source": [
        "print('Meu nome eh {fr} {r} {n} {f}'.format(fr='Francisco' ,r='Rafael', n='Nascimento', f='Fontes'))"
      ],
      "execution_count": 0,
      "outputs": [
        {
          "output_type": "stream",
          "text": [
            "Meu nome eh Francisco Rafael Nascimento Fontes\n"
          ],
          "name": "stdout"
        }
      ]
    },
    {
      "cell_type": "markdown",
      "metadata": {
        "id": "1Yqg0aQ1b0-b",
        "colab_type": "text"
      },
      "source": [
        "Float formatting follows \"{value:width.precision f}\""
      ]
    },
    {
      "cell_type": "code",
      "metadata": {
        "id": "fvtNQ0GycJ1_",
        "colab_type": "code",
        "outputId": "dc466266-3915-49aa-a493-09ad883ff8f5",
        "colab": {
          "base_uri": "https://localhost:8080/",
          "height": 52
        }
      },
      "source": [
        "result = 100/777\n",
        "print(result)\n",
        "print('The result is {r:1.3f}'.format(r=result))"
      ],
      "execution_count": 0,
      "outputs": [
        {
          "output_type": "stream",
          "text": [
            "0.1287001287001287\n",
            "The result is 0.129\n"
          ],
          "name": "stdout"
        }
      ]
    },
    {
      "cell_type": "markdown",
      "metadata": {
        "id": "VhoZyiYGc6YL",
        "colab_type": "text"
      },
      "source": [
        "#      **fstring**"
      ]
    },
    {
      "cell_type": "code",
      "metadata": {
        "id": "WR9cygHpdMwd",
        "colab_type": "code",
        "outputId": "904ebffa-ed44-4daa-cb60-7aba1908c526",
        "colab": {
          "base_uri": "https://localhost:8080/",
          "height": 34
        }
      },
      "source": [
        "name = 'Rafael'\n",
        "print(f'Meu nome eh {name}')"
      ],
      "execution_count": 0,
      "outputs": [
        {
          "output_type": "stream",
          "text": [
            "Meu nome eh Rafael\n"
          ],
          "name": "stdout"
        }
      ]
    },
    {
      "cell_type": "code",
      "metadata": {
        "id": "oBSWXMAQdqxQ",
        "colab_type": "code",
        "outputId": "56b9cfe4-e0d9-4c4c-dc35-f641f929f465",
        "colab": {
          "base_uri": "https://localhost:8080/",
          "height": 34
        }
      },
      "source": [
        "name = 'Fontes'\n",
        "age = 28\n",
        "print(f'{name} have {age} years old.')"
      ],
      "execution_count": 0,
      "outputs": [
        {
          "output_type": "stream",
          "text": [
            "Fontes have 28 years old.\n"
          ],
          "name": "stdout"
        }
      ]
    }
  ]
}